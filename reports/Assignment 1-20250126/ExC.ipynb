{
 "cells": [
  {
   "cell_type": "markdown",
   "metadata": {},
   "source": [
    "Denote the two admissible models $M_{\\alpha}$, $\\alpha \\in \\{1,2\\}$. Our data consists of two sequences $y^{(1)}$ and $y^{(2)}$. Then the Bayes factor $\\Kappa$ can be computed as: \n",
    "\\begin{align}\n",
    "    \\Kappa &= \\frac{p(y^{(1)}, y^{(2)} | M_1)}{p(y^{(1)}, y^{(2)} | M_2)} \\\\\n",
    "    &= \\frac{p(y^{(1)} | M_1) \\, p(y^{(2)} | M_1)}{p(y^{(1)} | M_2) \\, p(y^{(2)} | M_2)}\n",
    "\\end{align}\n",
    "with:\n",
    "\\begin{align}\n",
    "    p(y | M_{\\alpha}) = \\sum_k \\prod_i p(y_i | k, M_{\\alpha}) p(k | M_{\\alpha})\n",
    "\\end{align}\n",
    "and:\n",
    "\\begin{align}\n",
    "    p(y_i|k, M_{\\alpha}) = p (y_i|k) = k^{y_i} \\, (1-k)^{1-y_i}\n",
    "\\end{align}"
   ]
  },
  {
   "cell_type": "code",
   "execution_count": 18,
   "metadata": {},
   "outputs": [
    {
     "name": "stdout",
     "output_type": "stream",
     "text": [
      "1.71752299471e-05 \n",
      " 9.712206232544444e-06 \n",
      " 1.7684169318344842\n"
     ]
    }
   ],
   "source": [
    "import numpy as np\n",
    "\n",
    "# define variables for the two bags\n",
    "p_k_given_M1 = np.array([0.5,0.5]) # proba of k given model 1\n",
    "k_M1 = np.array([0.7,0.5]) # k values in model 1\n",
    "p_k_given_M2 = np.ones(9)/9 # proba of k given model 2\n",
    "k_M2 = np.arange(0.1,0.9+0.1,0.1) # k values in model 2\n",
    "\n",
    "# single arrays\n",
    "p_k = [p_k_given_M1,p_k_given_M2]\n",
    "k = [k_M1,k_M2]\n",
    "\n",
    "# tosses data\n",
    "y = np.array([[0,1,0,0,1,0,1,0],[0,1,1,1,0,1,1,1]])\n",
    "\n",
    "# define bernoulli\n",
    "def bernoulli_seq(y,k):\n",
    "    return np.prod(k**y*(1-k)**(1-y), axis=0)\n",
    "\n",
    "# define likelyhood of model alpha\n",
    "def likelyhood(y,alpha):\n",
    "    return np.sum([bernoulli_seq(y,k[alpha][i]) * p_k[alpha][i]\n",
    "                   for i in range(len(k[alpha]))],\n",
    "                  axis=0)\n",
    "\n",
    "likelyhood_M1 = np.prod([likelyhood(y_,alpha=0) for y_ in y], axis = 0)\n",
    "likelyhood_M2 = np.prod([likelyhood(y_,alpha=1) for y_ in y], axis = 0)\n",
    "K = likelyhood_M1 / likelyhood_M2\n",
    "\n",
    "print(likelyhood_M1, '\\n', likelyhood_M2, '\\n', K)"
   ]
  },
  {
   "cell_type": "code",
   "execution_count": null,
   "metadata": {},
   "outputs": [],
   "source": []
  }
 ],
 "metadata": {
  "kernelspec": {
   "display_name": "base",
   "language": "python",
   "name": "python3"
  },
  "language_info": {
   "codemirror_mode": {
    "name": "ipython",
    "version": 3
   },
   "file_extension": ".py",
   "mimetype": "text/x-python",
   "name": "python",
   "nbconvert_exporter": "python",
   "pygments_lexer": "ipython3",
   "version": "3.12.2"
  }
 },
 "nbformat": 4,
 "nbformat_minor": 2
}
